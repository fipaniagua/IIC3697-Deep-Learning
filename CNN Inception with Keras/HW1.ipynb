{
  "nbformat": 4,
  "nbformat_minor": 0,
  "metadata": {
    "colab": {
      "name": "HW1.ipynb",
      "provenance": [],
      "authorship_tag": "ABX9TyN6COjNf3Gm6nGK33AzbWWm",
      "include_colab_link": true
    },
    "kernelspec": {
      "name": "python3",
      "display_name": "Python 3"
    }
  },
  "cells": [
    {
      "cell_type": "markdown",
      "metadata": {
        "id": "view-in-github",
        "colab_type": "text"
      },
      "source": [
        "<a href=\"https://colab.research.google.com/github/fipaniagua/IIC3697-Deep-Learning/blob/develop/CNN%20Inception%20with%20Keras/HW1.ipynb\" target=\"_parent\"><img src=\"https://colab.research.google.com/assets/colab-badge.svg\" alt=\"Open In Colab\"/></a>"
      ]
    },
    {
      "cell_type": "markdown",
      "metadata": {
        "id": "bhEKbR5rvYpn",
        "colab_type": "text"
      },
      "source": [
        "# Tarea 1: Redes Neuronales Convolucionales (CNNs)\n",
        "Francisco Paniagua"
      ]
    },
    {
      "cell_type": "markdown",
      "metadata": {
        "id": "Uk0GO9NywCxp",
        "colab_type": "text"
      },
      "source": [
        "## Parte 1: GoogleNet Inception V1\n",
        "\n",
        "En esta sección se implementara la arquitectura de googleNet inception mediante el uso de la librerias Keras.\n",
        "Especificamente se usara la arquitectura descrita en la siguiente tabla:\n"
      ]
    },
    {
      "cell_type": "markdown",
      "metadata": {
        "id": "Snvk1MhGz-s_",
        "colab_type": "text"
      },
      "source": [
        "![texto alternativo](https://miro.medium.com/max/1400/1*lRN3h9a_qJdT6NIy0VOu3Q.png)"
      ]
    },
    {
      "cell_type": "code",
      "metadata": {
        "id": "SyCFnEeSvv72",
        "colab_type": "code",
        "colab": {}
      },
      "source": [
        "#modulos de keras \n",
        "import keras\n",
        "from keras.models import Model\n",
        "from keras.layers import Input, Conv2D, MaxPooling2D, Dense, Activation, Dropout, Flatten, concatenate, AveragePooling2D"
      ],
      "execution_count": 0,
      "outputs": []
    },
    {
      "cell_type": "markdown",
      "metadata": {
        "id": "cmTluw4zyUwP",
        "colab_type": "text"
      },
      "source": [
        "### Actividad 1\n"
      ]
    },
    {
      "cell_type": "code",
      "metadata": {
        "id": "NzvRo-xqxABf",
        "colab_type": "code",
        "colab": {
          "base_uri": "https://localhost:8080/",
          "height": 272
        },
        "outputId": "fd250468-e387-4ba4-90e6-bb0c46ab69ae"
      },
      "source": [
        "Inputs = Input(shape=(224,224,3))\n",
        "\n",
        "x = Conv2D(64, (7, 7), strides=(2,2), padding='same', activation='relu', use_bias=False, name='Conv2d_1a_7x7_conv')(Inputs)\n",
        "print(x.shape) #Para analizar el tamaño del tensor x. Entrega: (batch_size=\"None\", dimension1, dimension2, dimension3 (dada por la cantidad de filtros))\n",
        "x = MaxPooling2D((3, 3), strides=(2, 2), padding='same', name='MaxPool_2a_3x3')(x)\n",
        "\n",
        "model = Model(Inputs, x, name=\"Inception model 1\")\n",
        "model.summary()"
      ],
      "execution_count": 24,
      "outputs": [
        {
          "output_type": "stream",
          "text": [
            "(None, 112, 112, 64)\n",
            "Model: \"Inception model 1\"\n",
            "_________________________________________________________________\n",
            "Layer (type)                 Output Shape              Param #   \n",
            "=================================================================\n",
            "input_8 (InputLayer)         (None, 224, 224, 3)       0         \n",
            "_________________________________________________________________\n",
            "Conv2d_1a_7x7_conv (Conv2D)  (None, 112, 112, 64)      9408      \n",
            "_________________________________________________________________\n",
            "MaxPool_2a_3x3 (MaxPooling2D (None, 56, 56, 64)        0         \n",
            "=================================================================\n",
            "Total params: 9,408\n",
            "Trainable params: 9,408\n",
            "Non-trainable params: 0\n",
            "_________________________________________________________________\n"
          ],
          "name": "stdout"
        }
      ]
    },
    {
      "cell_type": "markdown",
      "metadata": {
        "id": "NPZfCsrays-D",
        "colab_type": "text"
      },
      "source": [
        "Como se puede apreciar las salida del modelo \"Inception model 1\" de la capa Maxpool_2a_3x3 es de (56,56,64) lo cual concuerda con la segunda fila de la tabla de la arquitectura de googleNet\n"
      ]
    },
    {
      "cell_type": "markdown",
      "metadata": {
        "id": "UZ0di9lf4H9U",
        "colab_type": "text"
      },
      "source": [
        "### Actividad 2\n",
        "\n",
        "Ahora procederemos a agregar las siguientes capas al modelo:\n",
        "1. Convolución de 64 filtros, con ventana de 1x1 y stride de 1. Sin bias.\n",
        "1. Convolución de 192 filtros, con ventana de 3x3 y stride de 1. Sin bias.\n",
        "1. MaxPooling de ventana de 3x3 y stride de 2\n"
      ]
    },
    {
      "cell_type": "code",
      "metadata": {
        "id": "UmnSVLr_4tau",
        "colab_type": "code",
        "colab": {
          "base_uri": "https://localhost:8080/",
          "height": 34
        },
        "outputId": "231f10db-6e13-4943-a7ca-fedd2479a9b8"
      },
      "source": [
        "l2a = Conv2D(64, (1, 1), strides=(1,1), padding='same', activation='relu', use_bias=False, name='Conv2d_2a_1x1')(x) \n",
        "l2b = Conv2D(192, (3, 3), strides=(1,1), padding='same', activation='relu', use_bias=False, name='Conv2d_2b_3x3')(l2a)\n",
        "l2c = MaxPooling2D((3,3), strides=(2,2), padding=\"same\", name = \"MaxPool_2c_3x3\")(l2b)\n",
        "print(l2c.shape)"
      ],
      "execution_count": 25,
      "outputs": [
        {
          "output_type": "stream",
          "text": [
            "(None, 28, 28, 192)\n"
          ],
          "name": "stdout"
        }
      ]
    },
    {
      "cell_type": "markdown",
      "metadata": {
        "id": "_LtVaLCs_JyB",
        "colab_type": "text"
      },
      "source": [
        "La arquitectura de GoogleNet usa continuamente convoluciones de 1x1 con stride de 1, debido a que si estas convoluciones no exitieran la complejidad de computo seria demasiado grande. A continuación se pueden ver 2 tablas, con las cuales podemos comparar el computo que se necesita para realizar dos convoluciones (una de 3x3 y otra de 5x5) si se antepone o no una convolucion de 1x1\n",
        "\n",
        "\n",
        "> Sin convoluciones previas de 1x1:\n",
        "\n",
        "Input size| operation type | filter size | output size | operations required (output size x filter size)\n",
        "--- | --- | --- | --- |---\n",
        "28x28x192 | Conv2d 5x5 (32 filters)| 5x5x192 | 28x28x32 | 120.422.400  \n",
        "28x28x192 | Conc2d 3x3 (128 filters) | 3x3x192 | 28x28x128 | 173.408.256\n",
        "    | |  | |  293 millones\n",
        "\n",
        "> Con convoluciones previas de 1x1\n",
        "\n",
        "Input size| operation type | filter size | output size | operations required (output size x filter size)\n",
        "--- | --- | --- | --- |---\n",
        "28x28x192 | Conv2d 1x1 (96 filters) | 1x1x192 | 28x28x96 | 14.450.688\n",
        "28x28x192 | Conv2d 1x1 (16 filters) | 1x1x192 | 28x28x16 | 2.408.448\n",
        "28x28x96  | Conv2d 3x3 (128 filters) | 3x3x96 | 28x28x128 | 86.704.128\n",
        "28x28x16  | Conv2d 5x5 (32 filters)  | 5x5x16 | 28x28x32 | 10.035.200  \n",
        " | | | | 112 millones\n",
        "\n",
        "En este ejemplo podemos apreciar como el uso de las convoluciones de 1x1 permiten reducir la complejidad de 293 millones a 112 millones de operaciones\n"
      ]
    },
    {
      "cell_type": "markdown",
      "metadata": {
        "id": "8BIrz3laP5nY",
        "colab_type": "text"
      },
      "source": [
        "###Actividad 4"
      ]
    },
    {
      "cell_type": "code",
      "metadata": {
        "id": "x-A6FTooNnqA",
        "colab_type": "code",
        "colab": {}
      },
      "source": [
        "def generate_inception_layer(input_tensor, size_1x1, reduce_3x3_size, size_3x3, reduce_5x5_size, size_5x5, pool_proj_size, module_name ):\n",
        "    branch_0 = Conv2D(size_1x1, (1,1), strides=(1,1), padding=\"same\", activation=\"relu\", name = \"{0}_branch_0_a_1x1\".format(module_name))(input_tensor)\n",
        "    branch_1a = Conv2D(reduce_3x3_size, (1,1), strides=(1,1), padding=\"same\", activation=\"relu\", name=\"{0}_branch_1a_1x1\".format(module_name))(input_tensor)\n",
        "    branch_1b = Conv2D(size_3x3, (3,3), strides=(1,1), padding=\"same\", activation=\"relu\", name=\"{0}_branch_1b_3x3\".format(module_name))(branch_1a)\n",
        "    branch_2a = Conv2D(reduce_5x5_size, (1,1), strides=(1,1), padding=\"same\", activation=\"relu\", name=\"{0}_branch_2a_1x1\".format(module_name))(input_tensor)\n",
        "    branch_2b = Conv2D(size_5x5, (5,5), strides=(1,1), padding=\"same\", activation=\"relu\", name=\"{0}_branch_2b_5x5\".format(module_name))(branch_2a)\n",
        "    branch_3a = MaxPooling2D((3,3),strides=(1,1),padding=\"same\", name=\"{0}_branch_1c_maxpool\".format(module_name))(input_tensor)\n",
        "    branch_3b = Conv2D(pool_proj_size, (1,1), strides=(1,1), padding=\"same\", activation=\"relu\", name=\"{0}_branch_2c_1x1\".format(module_name))(branch_3a)\n",
        "    concat_layer = concatenate([branch_0, branch_1b, branch_2b, branch_3b], axis=3, name=\"{0}_concatenated_layer\".format(module_name))\n",
        "    return concat_layer\n"
      ],
      "execution_count": 0,
      "outputs": []
    },
    {
      "cell_type": "code",
      "metadata": {
        "id": "mb4bwQNnaVZK",
        "colab_type": "code",
        "colab": {
          "base_uri": "https://localhost:8080/",
          "height": 34
        },
        "outputId": "4dc60dda-bdc6-4cdf-d6f4-c43824e89be1"
      },
      "source": [
        "l3a = generate_inception_layer(l2c, 64, 96, 128, 16, 32, 32, \"3a\")\n",
        "l3a.shape"
      ],
      "execution_count": 28,
      "outputs": [
        {
          "output_type": "execute_result",
          "data": {
            "text/plain": [
              "TensorShape([None, 28, 28, 256])"
            ]
          },
          "metadata": {
            "tags": []
          },
          "execution_count": 28
        }
      ]
    },
    {
      "cell_type": "markdown",
      "metadata": {
        "id": "iXimdZw6bhpl",
        "colab_type": "text"
      },
      "source": [
        "Como podemos notar la funcion de modulo esta entregando las dimensiones correctas, ya que despues de la capa 2c viene un modulo *inception* que deveria entregar un output de 28x28x256 (fila 5 de la tabla de la arquitectura de GoogleNet)"
      ]
    },
    {
      "cell_type": "markdown",
      "metadata": {
        "id": "eavKT8DycKfJ",
        "colab_type": "text"
      },
      "source": [
        "###Actividad 5\n",
        "\n",
        "En esta sección implementaremos la red completa previa a la capa de *AveragePool*.\n",
        "\n",
        "\n",
        "<img src=\"https://i.kym-cdn.com/photos/images/facebook/000/531/557/a88.jpg\" alt=\"drawing\" width=\"500\"/>\n"
      ]
    },
    {
      "cell_type": "code",
      "metadata": {
        "id": "5Q6TxQ12eoIW",
        "colab_type": "code",
        "colab": {}
      },
      "source": [
        "l3b = generate_inception_layer(l3a, 128, 128, 192, 32, 96, 64, \"3b\")\n",
        "l3c = MaxPooling2D((3,3), strides=(2,2), padding=\"same\", name=\"Max_pool_3c_3x3\")(l3b)\n",
        "l4a = generate_inception_layer(l3c, 192, 96, 208, 16, 48, 64, \"4a\")\n",
        "l4b = generate_inception_layer(l4a, 160, 112, 224, 24, 64, 64, \"4b\")\n",
        "l4c = generate_inception_layer(l4b, 128, 128, 256, 24, 64, 64, \"4c\")\n",
        "l4d = generate_inception_layer(l4c, 112, 144, 288, 32, 64, 64, \"4d\")\n",
        "l4e = generate_inception_layer(l4d, 256, 160, 320, 32, 128, 128, \"4e\")\n",
        "l4f = MaxPooling2D((3,3), strides=(2,2), padding=\"same\", name=\"Max_pool_4f_3x3\")(l4e)\n",
        "l5a = generate_inception_layer(l4f, 256, 160, 320, 32, 128, 128, \"5a\")\n",
        "l5b = generate_inception_layer(l5a, 384, 192, 384, 48, 128, 128, \"5b\")"
      ],
      "execution_count": 0,
      "outputs": []
    },
    {
      "cell_type": "markdown",
      "metadata": {
        "id": "abhbsZyOjaLM",
        "colab_type": "text"
      },
      "source": [
        "La manera mas sensilla de revisar si nuestra implementacion de las capas tiene las dimensiones correctas es verificar que la ultima capa \"*Inception 5b*\" entrege un output de 7x7x1024 (fila 5 de la tabla de la arquitectura)"
      ]
    },
    {
      "cell_type": "code",
      "metadata": {
        "id": "Co7cIJI7i5L5",
        "colab_type": "code",
        "colab": {
          "base_uri": "https://localhost:8080/",
          "height": 34
        },
        "outputId": "a730ccd5-cc60-48dd-b921-feb2c9b9e49f"
      },
      "source": [
        "l5b.shape"
      ],
      "execution_count": 31,
      "outputs": [
        {
          "output_type": "execute_result",
          "data": {
            "text/plain": [
              "TensorShape([None, 7, 7, 1024])"
            ]
          },
          "metadata": {
            "tags": []
          },
          "execution_count": 31
        }
      ]
    },
    {
      "cell_type": "markdown",
      "metadata": {
        "id": "6keCuQ0AklCR",
        "colab_type": "text"
      },
      "source": [
        "### Actividad 6\n",
        "\n",
        "Finalmente agregaremos las ultimas capas e instanciaremos el modelo."
      ]
    },
    {
      "cell_type": "code",
      "metadata": {
        "id": "8iCS2zEok2PO",
        "colab_type": "code",
        "colab": {
          "base_uri": "https://localhost:8080/",
          "height": 34
        },
        "outputId": "f7a1b511-59f3-4999-eca9-10818a6d236d"
      },
      "source": [
        "lavgpool = AveragePooling2D((7,7), strides=(1,1), name=\"Avarage_pool_7x7\")(l5b)\n",
        "print(lavgpool.shape)\n",
        "ldrop = Dropout(0.4)(lavgpool)\n",
        "lflat = Flatten()(ldrop)\n",
        "llinear = Dense(1000, use_bias=False, name=\"linear\")(lflat)\n",
        "lfinal = Activation(\"softmax\")(llinear)"
      ],
      "execution_count": 36,
      "outputs": [
        {
          "output_type": "stream",
          "text": [
            "(None, 1, 1, 1024)\n"
          ],
          "name": "stdout"
        }
      ]
    },
    {
      "cell_type": "code",
      "metadata": {
        "id": "i6HBAfARoT2c",
        "colab_type": "code",
        "colab": {
          "base_uri": "https://localhost:8080/",
          "height": 1000
        },
        "outputId": "c65797f4-bfc1-4802-921b-47ba26d1b79c"
      },
      "source": [
        "final_model = Model(Inputs, lfinal, name=\"inceptionNet\")\n",
        "final_model.summary()"
      ],
      "execution_count": 38,
      "outputs": [
        {
          "output_type": "stream",
          "text": [
            "Model: \"inceptionNet\"\n",
            "__________________________________________________________________________________________________\n",
            "Layer (type)                    Output Shape         Param #     Connected to                     \n",
            "==================================================================================================\n",
            "input_8 (InputLayer)            (None, 224, 224, 3)  0                                            \n",
            "__________________________________________________________________________________________________\n",
            "Conv2d_1a_7x7_conv (Conv2D)     (None, 112, 112, 64) 9408        input_8[0][0]                    \n",
            "__________________________________________________________________________________________________\n",
            "MaxPool_2a_3x3 (MaxPooling2D)   (None, 56, 56, 64)   0           Conv2d_1a_7x7_conv[0][0]         \n",
            "__________________________________________________________________________________________________\n",
            "Conv2d_2a_1x1 (Conv2D)          (None, 56, 56, 64)   4096        MaxPool_2a_3x3[0][0]             \n",
            "__________________________________________________________________________________________________\n",
            "Conv2d_2b_3x3 (Conv2D)          (None, 56, 56, 192)  110592      Conv2d_2a_1x1[0][0]              \n",
            "__________________________________________________________________________________________________\n",
            "MaxPool_2c_3x3 (MaxPooling2D)   (None, 28, 28, 192)  0           Conv2d_2b_3x3[0][0]              \n",
            "__________________________________________________________________________________________________\n",
            "3a_branch_1a_1x1 (Conv2D)       (None, 28, 28, 96)   18528       MaxPool_2c_3x3[0][0]             \n",
            "__________________________________________________________________________________________________\n",
            "3a_branch_2a_1x1 (Conv2D)       (None, 28, 28, 16)   3088        MaxPool_2c_3x3[0][0]             \n",
            "__________________________________________________________________________________________________\n",
            "3a_branch_1c_maxpool (MaxPoolin (None, 28, 28, 192)  0           MaxPool_2c_3x3[0][0]             \n",
            "__________________________________________________________________________________________________\n",
            "3a_branch_0_a_1x1 (Conv2D)      (None, 28, 28, 64)   12352       MaxPool_2c_3x3[0][0]             \n",
            "__________________________________________________________________________________________________\n",
            "3a_branch_1b_3x3 (Conv2D)       (None, 28, 28, 128)  110720      3a_branch_1a_1x1[0][0]           \n",
            "__________________________________________________________________________________________________\n",
            "3a_branch_2b_5x5 (Conv2D)       (None, 28, 28, 32)   12832       3a_branch_2a_1x1[0][0]           \n",
            "__________________________________________________________________________________________________\n",
            "3a_branch_2c_1x1 (Conv2D)       (None, 28, 28, 32)   6176        3a_branch_1c_maxpool[0][0]       \n",
            "__________________________________________________________________________________________________\n",
            "3a_concatenated_layer (Concaten (None, 28, 28, 256)  0           3a_branch_0_a_1x1[0][0]          \n",
            "                                                                 3a_branch_1b_3x3[0][0]           \n",
            "                                                                 3a_branch_2b_5x5[0][0]           \n",
            "                                                                 3a_branch_2c_1x1[0][0]           \n",
            "__________________________________________________________________________________________________\n",
            "3b_branch_1a_1x1 (Conv2D)       (None, 28, 28, 128)  32896       3a_concatenated_layer[0][0]      \n",
            "__________________________________________________________________________________________________\n",
            "3b_branch_2a_1x1 (Conv2D)       (None, 28, 28, 32)   8224        3a_concatenated_layer[0][0]      \n",
            "__________________________________________________________________________________________________\n",
            "3b_branch_1c_maxpool (MaxPoolin (None, 28, 28, 256)  0           3a_concatenated_layer[0][0]      \n",
            "__________________________________________________________________________________________________\n",
            "3b_branch_0_a_1x1 (Conv2D)      (None, 28, 28, 128)  32896       3a_concatenated_layer[0][0]      \n",
            "__________________________________________________________________________________________________\n",
            "3b_branch_1b_3x3 (Conv2D)       (None, 28, 28, 192)  221376      3b_branch_1a_1x1[0][0]           \n",
            "__________________________________________________________________________________________________\n",
            "3b_branch_2b_5x5 (Conv2D)       (None, 28, 28, 96)   76896       3b_branch_2a_1x1[0][0]           \n",
            "__________________________________________________________________________________________________\n",
            "3b_branch_2c_1x1 (Conv2D)       (None, 28, 28, 64)   16448       3b_branch_1c_maxpool[0][0]       \n",
            "__________________________________________________________________________________________________\n",
            "3b_concatenated_layer (Concaten (None, 28, 28, 480)  0           3b_branch_0_a_1x1[0][0]          \n",
            "                                                                 3b_branch_1b_3x3[0][0]           \n",
            "                                                                 3b_branch_2b_5x5[0][0]           \n",
            "                                                                 3b_branch_2c_1x1[0][0]           \n",
            "__________________________________________________________________________________________________\n",
            "Max_pool_3c_3x3 (MaxPooling2D)  (None, 14, 14, 480)  0           3b_concatenated_layer[0][0]      \n",
            "__________________________________________________________________________________________________\n",
            "4a_branch_1a_1x1 (Conv2D)       (None, 14, 14, 96)   46176       Max_pool_3c_3x3[0][0]            \n",
            "__________________________________________________________________________________________________\n",
            "4a_branch_2a_1x1 (Conv2D)       (None, 14, 14, 16)   7696        Max_pool_3c_3x3[0][0]            \n",
            "__________________________________________________________________________________________________\n",
            "4a_branch_1c_maxpool (MaxPoolin (None, 14, 14, 480)  0           Max_pool_3c_3x3[0][0]            \n",
            "__________________________________________________________________________________________________\n",
            "4a_branch_0_a_1x1 (Conv2D)      (None, 14, 14, 192)  92352       Max_pool_3c_3x3[0][0]            \n",
            "__________________________________________________________________________________________________\n",
            "4a_branch_1b_3x3 (Conv2D)       (None, 14, 14, 208)  179920      4a_branch_1a_1x1[0][0]           \n",
            "__________________________________________________________________________________________________\n",
            "4a_branch_2b_5x5 (Conv2D)       (None, 14, 14, 48)   19248       4a_branch_2a_1x1[0][0]           \n",
            "__________________________________________________________________________________________________\n",
            "4a_branch_2c_1x1 (Conv2D)       (None, 14, 14, 64)   30784       4a_branch_1c_maxpool[0][0]       \n",
            "__________________________________________________________________________________________________\n",
            "4a_concatenated_layer (Concaten (None, 14, 14, 512)  0           4a_branch_0_a_1x1[0][0]          \n",
            "                                                                 4a_branch_1b_3x3[0][0]           \n",
            "                                                                 4a_branch_2b_5x5[0][0]           \n",
            "                                                                 4a_branch_2c_1x1[0][0]           \n",
            "__________________________________________________________________________________________________\n",
            "4b_branch_1a_1x1 (Conv2D)       (None, 14, 14, 112)  57456       4a_concatenated_layer[0][0]      \n",
            "__________________________________________________________________________________________________\n",
            "4b_branch_2a_1x1 (Conv2D)       (None, 14, 14, 24)   12312       4a_concatenated_layer[0][0]      \n",
            "__________________________________________________________________________________________________\n",
            "4b_branch_1c_maxpool (MaxPoolin (None, 14, 14, 512)  0           4a_concatenated_layer[0][0]      \n",
            "__________________________________________________________________________________________________\n",
            "4b_branch_0_a_1x1 (Conv2D)      (None, 14, 14, 160)  82080       4a_concatenated_layer[0][0]      \n",
            "__________________________________________________________________________________________________\n",
            "4b_branch_1b_3x3 (Conv2D)       (None, 14, 14, 224)  226016      4b_branch_1a_1x1[0][0]           \n",
            "__________________________________________________________________________________________________\n",
            "4b_branch_2b_5x5 (Conv2D)       (None, 14, 14, 64)   38464       4b_branch_2a_1x1[0][0]           \n",
            "__________________________________________________________________________________________________\n",
            "4b_branch_2c_1x1 (Conv2D)       (None, 14, 14, 64)   32832       4b_branch_1c_maxpool[0][0]       \n",
            "__________________________________________________________________________________________________\n",
            "4b_concatenated_layer (Concaten (None, 14, 14, 512)  0           4b_branch_0_a_1x1[0][0]          \n",
            "                                                                 4b_branch_1b_3x3[0][0]           \n",
            "                                                                 4b_branch_2b_5x5[0][0]           \n",
            "                                                                 4b_branch_2c_1x1[0][0]           \n",
            "__________________________________________________________________________________________________\n",
            "4c_branch_1a_1x1 (Conv2D)       (None, 14, 14, 128)  65664       4b_concatenated_layer[0][0]      \n",
            "__________________________________________________________________________________________________\n",
            "4c_branch_2a_1x1 (Conv2D)       (None, 14, 14, 24)   12312       4b_concatenated_layer[0][0]      \n",
            "__________________________________________________________________________________________________\n",
            "4c_branch_1c_maxpool (MaxPoolin (None, 14, 14, 512)  0           4b_concatenated_layer[0][0]      \n",
            "__________________________________________________________________________________________________\n",
            "4c_branch_0_a_1x1 (Conv2D)      (None, 14, 14, 128)  65664       4b_concatenated_layer[0][0]      \n",
            "__________________________________________________________________________________________________\n",
            "4c_branch_1b_3x3 (Conv2D)       (None, 14, 14, 256)  295168      4c_branch_1a_1x1[0][0]           \n",
            "__________________________________________________________________________________________________\n",
            "4c_branch_2b_5x5 (Conv2D)       (None, 14, 14, 64)   38464       4c_branch_2a_1x1[0][0]           \n",
            "__________________________________________________________________________________________________\n",
            "4c_branch_2c_1x1 (Conv2D)       (None, 14, 14, 64)   32832       4c_branch_1c_maxpool[0][0]       \n",
            "__________________________________________________________________________________________________\n",
            "4c_concatenated_layer (Concaten (None, 14, 14, 512)  0           4c_branch_0_a_1x1[0][0]          \n",
            "                                                                 4c_branch_1b_3x3[0][0]           \n",
            "                                                                 4c_branch_2b_5x5[0][0]           \n",
            "                                                                 4c_branch_2c_1x1[0][0]           \n",
            "__________________________________________________________________________________________________\n",
            "4d_branch_1a_1x1 (Conv2D)       (None, 14, 14, 144)  73872       4c_concatenated_layer[0][0]      \n",
            "__________________________________________________________________________________________________\n",
            "4d_branch_2a_1x1 (Conv2D)       (None, 14, 14, 32)   16416       4c_concatenated_layer[0][0]      \n",
            "__________________________________________________________________________________________________\n",
            "4d_branch_1c_maxpool (MaxPoolin (None, 14, 14, 512)  0           4c_concatenated_layer[0][0]      \n",
            "__________________________________________________________________________________________________\n",
            "4d_branch_0_a_1x1 (Conv2D)      (None, 14, 14, 112)  57456       4c_concatenated_layer[0][0]      \n",
            "__________________________________________________________________________________________________\n",
            "4d_branch_1b_3x3 (Conv2D)       (None, 14, 14, 288)  373536      4d_branch_1a_1x1[0][0]           \n",
            "__________________________________________________________________________________________________\n",
            "4d_branch_2b_5x5 (Conv2D)       (None, 14, 14, 64)   51264       4d_branch_2a_1x1[0][0]           \n",
            "__________________________________________________________________________________________________\n",
            "4d_branch_2c_1x1 (Conv2D)       (None, 14, 14, 64)   32832       4d_branch_1c_maxpool[0][0]       \n",
            "__________________________________________________________________________________________________\n",
            "4d_concatenated_layer (Concaten (None, 14, 14, 528)  0           4d_branch_0_a_1x1[0][0]          \n",
            "                                                                 4d_branch_1b_3x3[0][0]           \n",
            "                                                                 4d_branch_2b_5x5[0][0]           \n",
            "                                                                 4d_branch_2c_1x1[0][0]           \n",
            "__________________________________________________________________________________________________\n",
            "4e_branch_1a_1x1 (Conv2D)       (None, 14, 14, 160)  84640       4d_concatenated_layer[0][0]      \n",
            "__________________________________________________________________________________________________\n",
            "4e_branch_2a_1x1 (Conv2D)       (None, 14, 14, 32)   16928       4d_concatenated_layer[0][0]      \n",
            "__________________________________________________________________________________________________\n",
            "4e_branch_1c_maxpool (MaxPoolin (None, 14, 14, 528)  0           4d_concatenated_layer[0][0]      \n",
            "__________________________________________________________________________________________________\n",
            "4e_branch_0_a_1x1 (Conv2D)      (None, 14, 14, 256)  135424      4d_concatenated_layer[0][0]      \n",
            "__________________________________________________________________________________________________\n",
            "4e_branch_1b_3x3 (Conv2D)       (None, 14, 14, 320)  461120      4e_branch_1a_1x1[0][0]           \n",
            "__________________________________________________________________________________________________\n",
            "4e_branch_2b_5x5 (Conv2D)       (None, 14, 14, 128)  102528      4e_branch_2a_1x1[0][0]           \n",
            "__________________________________________________________________________________________________\n",
            "4e_branch_2c_1x1 (Conv2D)       (None, 14, 14, 128)  67712       4e_branch_1c_maxpool[0][0]       \n",
            "__________________________________________________________________________________________________\n",
            "4e_concatenated_layer (Concaten (None, 14, 14, 832)  0           4e_branch_0_a_1x1[0][0]          \n",
            "                                                                 4e_branch_1b_3x3[0][0]           \n",
            "                                                                 4e_branch_2b_5x5[0][0]           \n",
            "                                                                 4e_branch_2c_1x1[0][0]           \n",
            "__________________________________________________________________________________________________\n",
            "Max_pool_4f_3x3 (MaxPooling2D)  (None, 7, 7, 832)    0           4e_concatenated_layer[0][0]      \n",
            "__________________________________________________________________________________________________\n",
            "5a_branch_1a_1x1 (Conv2D)       (None, 7, 7, 160)    133280      Max_pool_4f_3x3[0][0]            \n",
            "__________________________________________________________________________________________________\n",
            "5a_branch_2a_1x1 (Conv2D)       (None, 7, 7, 32)     26656       Max_pool_4f_3x3[0][0]            \n",
            "__________________________________________________________________________________________________\n",
            "5a_branch_1c_maxpool (MaxPoolin (None, 7, 7, 832)    0           Max_pool_4f_3x3[0][0]            \n",
            "__________________________________________________________________________________________________\n",
            "5a_branch_0_a_1x1 (Conv2D)      (None, 7, 7, 256)    213248      Max_pool_4f_3x3[0][0]            \n",
            "__________________________________________________________________________________________________\n",
            "5a_branch_1b_3x3 (Conv2D)       (None, 7, 7, 320)    461120      5a_branch_1a_1x1[0][0]           \n",
            "__________________________________________________________________________________________________\n",
            "5a_branch_2b_5x5 (Conv2D)       (None, 7, 7, 128)    102528      5a_branch_2a_1x1[0][0]           \n",
            "__________________________________________________________________________________________________\n",
            "5a_branch_2c_1x1 (Conv2D)       (None, 7, 7, 128)    106624      5a_branch_1c_maxpool[0][0]       \n",
            "__________________________________________________________________________________________________\n",
            "5a_concatenated_layer (Concaten (None, 7, 7, 832)    0           5a_branch_0_a_1x1[0][0]          \n",
            "                                                                 5a_branch_1b_3x3[0][0]           \n",
            "                                                                 5a_branch_2b_5x5[0][0]           \n",
            "                                                                 5a_branch_2c_1x1[0][0]           \n",
            "__________________________________________________________________________________________________\n",
            "5b_branch_1a_1x1 (Conv2D)       (None, 7, 7, 192)    159936      5a_concatenated_layer[0][0]      \n",
            "__________________________________________________________________________________________________\n",
            "5b_branch_2a_1x1 (Conv2D)       (None, 7, 7, 48)     39984       5a_concatenated_layer[0][0]      \n",
            "__________________________________________________________________________________________________\n",
            "5b_branch_1c_maxpool (MaxPoolin (None, 7, 7, 832)    0           5a_concatenated_layer[0][0]      \n",
            "__________________________________________________________________________________________________\n",
            "5b_branch_0_a_1x1 (Conv2D)      (None, 7, 7, 384)    319872      5a_concatenated_layer[0][0]      \n",
            "__________________________________________________________________________________________________\n",
            "5b_branch_1b_3x3 (Conv2D)       (None, 7, 7, 384)    663936      5b_branch_1a_1x1[0][0]           \n",
            "__________________________________________________________________________________________________\n",
            "5b_branch_2b_5x5 (Conv2D)       (None, 7, 7, 128)    153728      5b_branch_2a_1x1[0][0]           \n",
            "__________________________________________________________________________________________________\n",
            "5b_branch_2c_1x1 (Conv2D)       (None, 7, 7, 128)    106624      5b_branch_1c_maxpool[0][0]       \n",
            "__________________________________________________________________________________________________\n",
            "5b_concatenated_layer (Concaten (None, 7, 7, 1024)   0           5b_branch_0_a_1x1[0][0]          \n",
            "                                                                 5b_branch_1b_3x3[0][0]           \n",
            "                                                                 5b_branch_2b_5x5[0][0]           \n",
            "                                                                 5b_branch_2c_1x1[0][0]           \n",
            "__________________________________________________________________________________________________\n",
            "Avarage_pool_7x7 (AveragePoolin (None, 1, 1, 1024)   0           5b_concatenated_layer[0][0]      \n",
            "__________________________________________________________________________________________________\n",
            "dropout_5 (Dropout)             (None, 1, 1, 1024)   0           Avarage_pool_7x7[0][0]           \n",
            "__________________________________________________________________________________________________\n",
            "flatten_4 (Flatten)             (None, 1024)         0           dropout_5[0][0]                  \n",
            "__________________________________________________________________________________________________\n",
            "linear (Dense)                  (None, 1000)         1024000     flatten_4[0][0]                  \n",
            "__________________________________________________________________________________________________\n",
            "activation_1 (Activation)       (None, 1000)         0           linear[0][0]                     \n",
            "==================================================================================================\n",
            "Total params: 6,997,232\n",
            "Trainable params: 6,997,232\n",
            "Non-trainable params: 0\n",
            "__________________________________________________________________________________________________\n"
          ],
          "name": "stdout"
        }
      ]
    }
  ]
}