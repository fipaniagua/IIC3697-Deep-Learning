{
  "nbformat": 4,
  "nbformat_minor": 0,
  "metadata": {
    "colab": {
      "name": "HW2.ipynb",
      "provenance": [],
      "collapsed_sections": [],
      "authorship_tag": "ABX9TyO4c1fosaU6PwEebvfspV8l",
      "include_colab_link": true
    },
    "kernelspec": {
      "name": "python3",
      "display_name": "Python 3"
    }
  },
  "cells": [
    {
      "cell_type": "markdown",
      "metadata": {
        "id": "view-in-github",
        "colab_type": "text"
      },
      "source": [
        "<a href=\"https://colab.research.google.com/github/fipaniagua/IIC3697-Deep-Learning/blob/develop/LSTM%20RNN%20and%20attention%20with%20Pytorch/HW2.ipynb\" target=\"_parent\"><img src=\"https://colab.research.google.com/assets/colab-badge.svg\" alt=\"Open In Colab\"/></a>"
      ]
    },
    {
      "cell_type": "markdown",
      "metadata": {
        "id": "Ykj5klp_SBCL",
        "colab_type": "text"
      },
      "source": [
        "#Tarea 2: Redes Neuronales Recurrentes (RNNs)\n",
        "\n",
        "Francisco Paniagua\n"
      ]
    },
    {
      "cell_type": "markdown",
      "metadata": {
        "id": "_OQdsNfgSMYj",
        "colab_type": "text"
      },
      "source": [
        "## Actividad 1\n"
      ]
    },
    {
      "cell_type": "markdown",
      "metadata": {
        "id": "NRRmcPmDStAw",
        "colab_type": "text"
      },
      "source": [
        "En primer lugar Implementamos el modelo RNN *many-to-one*"
      ]
    },
    {
      "cell_type": "code",
      "metadata": {
        "id": "4XY-K_YrTA0Q",
        "colab_type": "code",
        "colab": {}
      },
      "source": [
        "import torch\n",
        "import torch.nn as nn"
      ],
      "execution_count": 0,
      "outputs": []
    },
    {
      "cell_type": "code",
      "metadata": {
        "id": "mV8BSq21TNd4",
        "colab_type": "code",
        "colab": {}
      },
      "source": [
        "class RNN(nn.Module):\n",
        "  def __init__(self, input_dim, hidden_dim, num_layers):\n",
        "    super().__init__() \n",
        "    self.hidden_dim = hidden_dim\n",
        "    self.num_layers = num_layers \n",
        "    self.rnn = nn.RNN(input_dim, hidden_dim, num_layers, batch_first=True)\n",
        "    self.linear_out = nn.Linear(hidden_dim, 1)\n",
        "  \n",
        "  # This method defines the forward pass of the RNN \n",
        "  def forward(self, input):\n",
        "    batch_size, _ = input.size()\n",
        "    # Initializing hidden state for first input \n",
        "    h0 = self.init_hidden(batch_size) \n",
        "    # Passing in the input and hidden state to obtain output \n",
        "    _, hidden_state = self.rnn(input.unsqueeze(2), h0) \n",
        "    out = self.linear_out(hidden_state.squeeze())\n",
        "    return out\n",
        "\n",
        "  # This method generates the first hidden state of zeros for the forward pass \n",
        "  # This creates a tensor of zeros in the shape of our hidden states. \n",
        "  def init_hidden(self, batch_size): \n",
        "    hidden = torch.zeros(self.num_layers, batch_size, self.hidden_dim)\n",
        "    return hidden"
      ],
      "execution_count": 0,
      "outputs": []
    },
    {
      "cell_type": "markdown",
      "metadata": {
        "id": "WZ-fIFwYUJUB",
        "colab_type": "text"
      },
      "source": [
        "Podemos notar que la cantidad de parametros de nuestro modelo RNN depende de tres hiper parametros principales:\n",
        "\n",
        "\n",
        "1.   Input dimension\n",
        "2.   Hidden dimension\n",
        "3.   Number of layers\n",
        "\n",
        "Debido a esto si fijamos la deminsión interna a 100 y solo una capa oculta, el unico parametro que podemos varias es `la dimensión de entrada`. Como la dimension de entrada depende del **embeding** y este a su vez depende del **vocabulario** podemos argumentar que dependiendo del dataset podria cambiar la cantidad de parametros necesarios.\n",
        "\n",
        "Ahora bien, el embeding no solo depende del vocabulario sino tambien depende de la desición de con cuanta información nos queremos quedar para representar nuestro input. Esto genera un *trade-off* entre la cantidad de parametros y la cantidad de información que queremos \"guardar\".  \n",
        "\n",
        "A continuación un grafico que muestra esta relación (con modelos de capa oculta de una dimension de 100 y otro de 50).\n",
        "\n"
      ]
    },
    {
      "cell_type": "code",
      "metadata": {
        "id": "P_bqN2UqYlcZ",
        "colab_type": "code",
        "colab": {}
      },
      "source": [
        "def num_trainable_parameters(model):\n",
        "  return sum(p.numel() for p in model.parameters() if p.requires_grad)"
      ],
      "execution_count": 0,
      "outputs": []
    },
    {
      "cell_type": "code",
      "metadata": {
        "id": "ET25uDhAhpZS",
        "colab_type": "code",
        "colab": {}
      },
      "source": [
        "posible_input_dimensions = [10**i for i in range(1,7)]\n",
        "num_parameters_100 = []\n",
        "num_parameters_50 = []\n",
        "for input_dimension in posible_input_dimensions:\n",
        "  parameters_100 = num_trainable_parameters(RNN(input_dimension, 100, 1))\n",
        "  parameters_50 = num_trainable_parameters(RNN(input_dimension, 50, 1))\n",
        "  num_parameters_100.append(parameters_100)\n",
        "  num_parameters_50.append(parameters_50)\n",
        "  print(\"{0} | {1} | {2} | {3}\".format(\n",
        "      input_dimension,\n",
        "      parameters_50,\n",
        "      parameters_100,\n",
        "      parameters_100/parameters_50\n",
        "  ))"
      ],
      "execution_count": 0,
      "outputs": []
    },
    {
      "cell_type": "code",
      "metadata": {
        "id": "oSqtKQ70aovs",
        "colab_type": "code",
        "colab": {
          "base_uri": "https://localhost:8080/",
          "height": 295
        },
        "outputId": "c3239b36-3be3-41b5-e629-d77aa202da25"
      },
      "source": [
        "import matplotlib.pyplot as plt\n",
        "\n",
        "plt.plot(posible_input_dimensions, num_parameters_100)\n",
        "plt.plot(posible_input_dimensions, num_parameters_50)\n",
        "plt.title(\"Input dimension/Amount of parameters relationship\")\n",
        "plt.xlabel(\"input dimension\")\n",
        "plt.ylabel(\"amount of parameters\")\n",
        "plt.legend([\"hidden dimmension 100\", \"hidden dimmension 50\"], loc='upper left')\n",
        "plt.show()"
      ],
      "execution_count": 19,
      "outputs": [
        {
          "output_type": "display_data",
          "data": {
            "image/png": "[encoded data removed]",
            "text/plain": [
              "<Figure size 432x288 with 1 Axes>"
            ]
          },
          "metadata": {
            "tags": [],
            "needs_background": "light"
          }
        }
      ]
    },
    {
      "cell_type": "markdown",
      "metadata": {
        "id": "Vgen7JIFgCtn",
        "colab_type": "text"
      },
      "source": [
        "dimension de entrada | cantidad de parametros (capa interna 50) | cantidad de parametros (capa interna 100) | relación entre modelo de capa interna 50 y 100\n",
        "--- | --- | --- | --- |  \n",
        "10 | 3151 | 11301 | 3.586480482386544\n",
        "100 | 7651 | 20301 | 2.6533786433145994\n",
        "1000 | 52651 | 110301 | 2.0949459649389377\n",
        "10000 | 502651 | 1010301 | 2.0099452701775187\n",
        "100000 | 5002651 | 10010301 | 2.000999270186947\n",
        "1000000 | 50002651 | 100010301 | 2.0000999746993413"
      ]
    },
    {
      "cell_type": "markdown",
      "metadata": {
        "id": "eP3-Qmggbkgg",
        "colab_type": "text"
      },
      "source": [
        "Es claro en el grafico que existe una relación lineal entre la cantidad de parametros y la dimensión de entrada. Ademas al disminuir a 50 la dimension interna, la cantidad de parametros tiende a disminuir a la mitad a medida que aumentamos la dimension de entrada.\n",
        "\n",
        "Podemos confirmar esta relación teoricamente tambien. La cantidad de parametros puede ser calculada de la siguiente forma:\n",
        "\n",
        "\\begin{align}\n",
        "parametros_{totales} & = Parametros_{Rnn Cell} + Parametros_{Capa final}\\\\\n",
        "parametros_{totales} & = \\{\\#(W_{ih}) + \\#(b_{ih}) + \\#(W_{hh}) + \\#(b_{hh})\\} + \\{\\#(W_{h1}) + \\#(b_{1}) \\}  \\\\\n",
        "parametros_{totales} & = (h*i + h + h*h + h) + (h*1 + 1)\\\\\n",
        "parametros_{totales} & = h(i+ h + 3) +1 \\\\\n",
        "parametros_{totales} & = h^2 + 3h + h*i + 1\n",
        "\\end{align} \n",
        "\n"
      ]
    },
    {
      "cell_type": "markdown",
      "metadata": {
        "id": "-UdwlT5z5W1w",
        "colab_type": "text"
      },
      "source": [
        "Interesantemente, a pesar de que la cantidad de parametros aumenta cuadraticamente en relación a la dimensión interna. Si calculamos el limite cuando la dimension del input i tiende a infinito, El aumento porcentual de los parametros tiende a dos cuando duplicamos la dimensión interna (lo cual coincide con nuestros resultados empiricos):\n",
        "\n",
        "\\begin{align}\n",
        "\\lim_{i \\to \\infty} (4h^2+6h+2hi+1)/(h^2+3h+hi+1) = 2.\n",
        "\\end{align} \n",
        "\n",
        "Es decir, mientras mas grande es la dimension de la entrada, mas liniealmente se comporta el aumento de parametros en razón del aumento de la dimensión interna\n"
      ]
    }
  ]
}